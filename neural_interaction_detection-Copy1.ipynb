{
 "cells": [
  {
   "cell_type": "code",
   "execution_count": null,
   "metadata": {},
   "outputs": [],
   "source": [
    "import numpy as np\n",
    "import pandas as pd\n",
    "#from tqdm.notebook import tqdm\n",
    "import torch\n",
    "from NID_fast import *\n",
    "import pickle\n",
    "#import seaborn as sns\n",
    "#import matplotlib.pyplot as plt"
   ]
  },
  {
   "cell_type": "code",
   "execution_count": 2,
   "metadata": {},
   "outputs": [
    {
     "data": {
      "image/png": "[encoded data removed]",
      "text/plain": [
       "<Figure size 432x288 with 1 Axes>"
      ]
     },
     "metadata": {
      "needs_background": "light"
     },
     "output_type": "display_data"
    }
   ],
   "source": [
    "#test_auc = pd.read_csv(\"/home/kasper/nas/model_runs/mlp_hos6_clumped/test_auc.tsv\", sep = \"\\t\")\n",
    "#sns.histplot(data=test_auc, x=\"AUC\")\n",
    "#plt.show()"
   ]
  },
  {
   "cell_type": "code",
   "execution_count": 3,
   "metadata": {},
   "outputs": [
    {
     "data": {
      "text/html": [
       "<div>\n",
       "<style scoped>\n",
       "    .dataframe tbody tr th:only-of-type {\n",
       "        vertical-align: middle;\n",
       "    }\n",
       "\n",
       "    .dataframe tbody tr th {\n",
       "        vertical-align: top;\n",
       "    }\n",
       "\n",
       "    .dataframe thead th {\n",
       "        text-align: right;\n",
       "    }\n",
       "</style>\n",
       "<table border=\"1\" class=\"dataframe\">\n",
       "  <thead>\n",
       "    <tr style=\"text-align: right;\">\n",
       "      <th></th>\n",
       "      <th>Model_Run</th>\n",
       "      <th>AUC</th>\n",
       "    </tr>\n",
       "  </thead>\n",
       "  <tbody>\n",
       "    <tr>\n",
       "      <th>55</th>\n",
       "      <td>56</td>\n",
       "      <td>0.859108</td>\n",
       "    </tr>\n",
       "    <tr>\n",
       "      <th>23</th>\n",
       "      <td>24</td>\n",
       "      <td>0.846711</td>\n",
       "    </tr>\n",
       "    <tr>\n",
       "      <th>35</th>\n",
       "      <td>36</td>\n",
       "      <td>0.845743</td>\n",
       "    </tr>\n",
       "    <tr>\n",
       "      <th>83</th>\n",
       "      <td>84</td>\n",
       "      <td>0.841445</td>\n",
       "    </tr>\n",
       "    <tr>\n",
       "      <th>40</th>\n",
       "      <td>41</td>\n",
       "      <td>0.841213</td>\n",
       "    </tr>\n",
       "  </tbody>\n",
       "</table>\n",
       "</div>"
      ],
      "text/plain": [
       "    Model_Run       AUC\n",
       "55         56  0.859108\n",
       "23         24  0.846711\n",
       "35         36  0.845743\n",
       "83         84  0.841445\n",
       "40         41  0.841213"
      ]
     },
     "execution_count": 3,
     "metadata": {},
     "output_type": "execute_result"
    }
   ],
   "source": [
    "#test_auc.sort_values(by='AUC', ascending=False).head()"
   ]
  },
  {
   "cell_type": "code",
   "execution_count": 17,
   "metadata": {},
   "outputs": [
    {
     "name": "stdout",
     "output_type": "stream",
     "text": [
      "/home/kasper/nas/model_runs/mlp_hos6_clumped/model/model_1.pth\n",
      "/home/kasper/nas/model_runs/mlp_hos6_clumped/model/model_2.pth\n",
      "/home/kasper/nas/model_runs/mlp_hos6_clumped/model/model_3.pth\n",
      "/home/kasper/nas/model_runs/mlp_hos6_clumped/model/model_4.pth\n",
      "/home/kasper/nas/model_runs/mlp_hos6_clumped/model/model_5.pth\n",
      "/home/kasper/nas/model_runs/mlp_hos6_clumped/model/model_6.pth\n",
      "/home/kasper/nas/model_runs/mlp_hos6_clumped/model/model_7.pth\n",
      "/home/kasper/nas/model_runs/mlp_hos6_clumped/model/model_8.pth\n",
      "/home/kasper/nas/model_runs/mlp_hos6_clumped/model/model_9.pth\n",
      "/home/kasper/nas/model_runs/mlp_hos6_clumped/model/model_10.pth\n",
      "/home/kasper/nas/model_runs/mlp_hos6_clumped/model/model_11.pth\n",
      "/home/kasper/nas/model_runs/mlp_hos6_clumped/model/model_12.pth\n",
      "/home/kasper/nas/model_runs/mlp_hos6_clumped/model/model_13.pth\n",
      "/home/kasper/nas/model_runs/mlp_hos6_clumped/model/model_14.pth\n",
      "/home/kasper/nas/model_runs/mlp_hos6_clumped/model/model_15.pth\n",
      "/home/kasper/nas/model_runs/mlp_hos6_clumped/model/model_16.pth\n",
      "/home/kasper/nas/model_runs/mlp_hos6_clumped/model/model_17.pth\n",
      "/home/kasper/nas/model_runs/mlp_hos6_clumped/model/model_18.pth\n",
      "/home/kasper/nas/model_runs/mlp_hos6_clumped/model/model_19.pth\n",
      "/home/kasper/nas/model_runs/mlp_hos6_clumped/model/model_20.pth\n",
      "/home/kasper/nas/model_runs/mlp_hos6_clumped/model/model_21.pth\n",
      "/home/kasper/nas/model_runs/mlp_hos6_clumped/model/model_22.pth\n",
      "/home/kasper/nas/model_runs/mlp_hos6_clumped/model/model_23.pth\n",
      "/home/kasper/nas/model_runs/mlp_hos6_clumped/model/model_24.pth\n",
      "/home/kasper/nas/model_runs/mlp_hos6_clumped/model/model_25.pth\n",
      "/home/kasper/nas/model_runs/mlp_hos6_clumped/model/model_26.pth\n",
      "/home/kasper/nas/model_runs/mlp_hos6_clumped/model/model_27.pth\n",
      "/home/kasper/nas/model_runs/mlp_hos6_clumped/model/model_28.pth\n",
      "/home/kasper/nas/model_runs/mlp_hos6_clumped/model/model_29.pth\n",
      "/home/kasper/nas/model_runs/mlp_hos6_clumped/model/model_30.pth\n",
      "/home/kasper/nas/model_runs/mlp_hos6_clumped/model/model_31.pth\n",
      "/home/kasper/nas/model_runs/mlp_hos6_clumped/model/model_32.pth\n",
      "/home/kasper/nas/model_runs/mlp_hos6_clumped/model/model_33.pth\n",
      "/home/kasper/nas/model_runs/mlp_hos6_clumped/model/model_34.pth\n",
      "/home/kasper/nas/model_runs/mlp_hos6_clumped/model/model_35.pth\n",
      "/home/kasper/nas/model_runs/mlp_hos6_clumped/model/model_36.pth\n",
      "/home/kasper/nas/model_runs/mlp_hos6_clumped/model/model_37.pth\n",
      "/home/kasper/nas/model_runs/mlp_hos6_clumped/model/model_38.pth\n",
      "/home/kasper/nas/model_runs/mlp_hos6_clumped/model/model_39.pth\n",
      "/home/kasper/nas/model_runs/mlp_hos6_clumped/model/model_40.pth\n",
      "/home/kasper/nas/model_runs/mlp_hos6_clumped/model/model_41.pth\n",
      "/home/kasper/nas/model_runs/mlp_hos6_clumped/model/model_42.pth\n",
      "/home/kasper/nas/model_runs/mlp_hos6_clumped/model/model_43.pth\n",
      "/home/kasper/nas/model_runs/mlp_hos6_clumped/model/model_44.pth\n",
      "/home/kasper/nas/model_runs/mlp_hos6_clumped/model/model_45.pth\n",
      "/home/kasper/nas/model_runs/mlp_hos6_clumped/model/model_46.pth\n",
      "/home/kasper/nas/model_runs/mlp_hos6_clumped/model/model_47.pth\n",
      "/home/kasper/nas/model_runs/mlp_hos6_clumped/model/model_48.pth\n",
      "/home/kasper/nas/model_runs/mlp_hos6_clumped/model/model_49.pth\n",
      "/home/kasper/nas/model_runs/mlp_hos6_clumped/model/model_50.pth\n",
      "/home/kasper/nas/model_runs/mlp_hos6_clumped/model/model_51.pth\n",
      "/home/kasper/nas/model_runs/mlp_hos6_clumped/model/model_52.pth\n",
      "/home/kasper/nas/model_runs/mlp_hos6_clumped/model/model_53.pth\n",
      "/home/kasper/nas/model_runs/mlp_hos6_clumped/model/model_54.pth\n",
      "/home/kasper/nas/model_runs/mlp_hos6_clumped/model/model_55.pth\n",
      "/home/kasper/nas/model_runs/mlp_hos6_clumped/model/model_56.pth\n",
      "/home/kasper/nas/model_runs/mlp_hos6_clumped/model/model_57.pth\n",
      "/home/kasper/nas/model_runs/mlp_hos6_clumped/model/model_58.pth\n",
      "/home/kasper/nas/model_runs/mlp_hos6_clumped/model/model_59.pth\n",
      "/home/kasper/nas/model_runs/mlp_hos6_clumped/model/model_60.pth\n",
      "/home/kasper/nas/model_runs/mlp_hos6_clumped/model/model_61.pth\n",
      "/home/kasper/nas/model_runs/mlp_hos6_clumped/model/model_62.pth\n",
      "/home/kasper/nas/model_runs/mlp_hos6_clumped/model/model_63.pth\n",
      "/home/kasper/nas/model_runs/mlp_hos6_clumped/model/model_64.pth\n",
      "/home/kasper/nas/model_runs/mlp_hos6_clumped/model/model_65.pth\n",
      "/home/kasper/nas/model_runs/mlp_hos6_clumped/model/model_66.pth\n",
      "/home/kasper/nas/model_runs/mlp_hos6_clumped/model/model_67.pth\n",
      "/home/kasper/nas/model_runs/mlp_hos6_clumped/model/model_68.pth\n",
      "/home/kasper/nas/model_runs/mlp_hos6_clumped/model/model_69.pth\n",
      "/home/kasper/nas/model_runs/mlp_hos6_clumped/model/model_70.pth\n",
      "/home/kasper/nas/model_runs/mlp_hos6_clumped/model/model_71.pth\n",
      "/home/kasper/nas/model_runs/mlp_hos6_clumped/model/model_72.pth\n",
      "/home/kasper/nas/model_runs/mlp_hos6_clumped/model/model_73.pth\n",
      "/home/kasper/nas/model_runs/mlp_hos6_clumped/model/model_74.pth\n",
      "/home/kasper/nas/model_runs/mlp_hos6_clumped/model/model_75.pth\n",
      "/home/kasper/nas/model_runs/mlp_hos6_clumped/model/model_76.pth\n",
      "/home/kasper/nas/model_runs/mlp_hos6_clumped/model/model_77.pth\n",
      "/home/kasper/nas/model_runs/mlp_hos6_clumped/model/model_78.pth\n",
      "/home/kasper/nas/model_runs/mlp_hos6_clumped/model/model_79.pth\n",
      "/home/kasper/nas/model_runs/mlp_hos6_clumped/model/model_80.pth\n",
      "/home/kasper/nas/model_runs/mlp_hos6_clumped/model/model_81.pth\n",
      "/home/kasper/nas/model_runs/mlp_hos6_clumped/model/model_82.pth\n",
      "/home/kasper/nas/model_runs/mlp_hos6_clumped/model/model_83.pth\n",
      "/home/kasper/nas/model_runs/mlp_hos6_clumped/model/model_84.pth\n",
      "/home/kasper/nas/model_runs/mlp_hos6_clumped/model/model_85.pth\n",
      "/home/kasper/nas/model_runs/mlp_hos6_clumped/model/model_86.pth\n",
      "/home/kasper/nas/model_runs/mlp_hos6_clumped/model/model_87.pth\n",
      "/home/kasper/nas/model_runs/mlp_hos6_clumped/model/model_88.pth\n",
      "/home/kasper/nas/model_runs/mlp_hos6_clumped/model/model_89.pth\n",
      "/home/kasper/nas/model_runs/mlp_hos6_clumped/model/model_90.pth\n",
      "/home/kasper/nas/model_runs/mlp_hos6_clumped/model/model_91.pth\n",
      "/home/kasper/nas/model_runs/mlp_hos6_clumped/model/model_92.pth\n",
      "/home/kasper/nas/model_runs/mlp_hos6_clumped/model/model_93.pth\n",
      "/home/kasper/nas/model_runs/mlp_hos6_clumped/model/model_94.pth\n",
      "/home/kasper/nas/model_runs/mlp_hos6_clumped/model/model_95.pth\n",
      "/home/kasper/nas/model_runs/mlp_hos6_clumped/model/model_96.pth\n",
      "/home/kasper/nas/model_runs/mlp_hos6_clumped/model/model_97.pth\n",
      "/home/kasper/nas/model_runs/mlp_hos6_clumped/model/model_98.pth\n",
      "/home/kasper/nas/model_runs/mlp_hos6_clumped/model/model_99.pth\n",
      "/home/kasper/nas/model_runs/mlp_hos6_clumped/model/model_100.pth\n"
     ]
    }
   ],
   "source": [
    "for i in range(1, 101):\n",
    "    model_path = \"/home/kasper/nas/model_runs/mlp_hos6_clumped/model/model_\" + str(i) + \".pth\"\n",
    "    model = torch.load(model_path)\n",
    "    model_weights = get_weights(model)\n",
    "    \n",
    "    ### Pairwise interactions\n",
    "    w_input, w_later = preprocess_weights(model_weights)\n",
    "    pairwise = get_nlargest(generator = interpret_pairwise_interactions(w_input, w_later), N = 100)\n",
    "    pairwise_pd = pd.DataFrame(pairwise, columns=[\"Index\", \"Importance\"])\n",
    "    \n",
    "    pair_path = \"/home/kasper/nas/model_runs/mlp_hos6_clumped/nid_ouput/pairwise/model_\" + str(i) + \".csv\"\n",
    "    pairwise_pd.to_csv(pair_path)\n",
    "    \n",
    "    ### Higher order interactions\n",
    "    higher = get_interactions(model_weights)\n",
    "    higher_pd = pd.DataFrame(higher, columns=[\"Index\", \"Importance\"])\n",
    "    \n",
    "    higher_path = \"/home/kasper/nas/model_runs/mlp_hos6_clumped/nid_ouput/higher/model_\" + str(i) + \".csv\"\n",
    "    higher_pd.to_csv(higher_path)"
   ]
  },
  {
   "cell_type": "code",
   "execution_count": 12,
   "metadata": {},
   "outputs": [
    {
     "name": "stderr",
     "output_type": "stream",
     "text": [
      "100%|████████████████████████████████████████████████████████████████████████████████████████████████████████| 1727/1727 [00:40<00:00, 42.54it/s]\n"
     ]
    }
   ],
   "source": [
    "#model_weights = get_weights(model)\n",
    "#w_input, w_later = preprocess_weights(model_weights)\n",
    "#pairwise = get_nlargest(generator = interpret_pairwise_interactions(w_input, w_later), N = 100)\n",
    "#pairwise_pd = pd.DataFrame(pairwise, columns=[\"Index\", \"Importance\"])\n",
    "#pairwise_pd.to_csv(\"/home/kasper/Phenotype_prediction/results/mlp_500_250.csv\")"
   ]
  },
  {
   "cell_type": "code",
   "execution_count": 13,
   "metadata": {},
   "outputs": [],
   "source": [
    "#model_weights = get_weights(model)\n",
    "#higher = get_interactions(model_weights)\n",
    "#higher_pd = pd.DataFrame(higher, columns=[\"Index\", \"Importance\"])\n",
    "#higher_pd.to_csv(\"/home/kasper/Phenotype_prediction/results/mlp_500_250_higher.csv\")"
   ]
  }
 ],
 "metadata": {
  "kernelspec": {
   "display_name": "Python 3",
   "language": "python",
   "name": "python3"
  },
  "language_info": {
   "codemirror_mode": {
    "name": "ipython",
    "version": 3
   },
   "file_extension": ".py",
   "mimetype": "text/x-python",
   "name": "python",
   "nbconvert_exporter": "python",
   "pygments_lexer": "ipython3",
   "version": "3.7.11"
  }
 },
 "nbformat": 4,
 "nbformat_minor": 5
}

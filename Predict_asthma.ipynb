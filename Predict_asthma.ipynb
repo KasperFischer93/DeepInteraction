{
 "cells": [
  {
   "cell_type": "code",
   "execution_count": 12,
   "id": "accomplished-mustang",
   "metadata": {},
   "outputs": [],
   "source": [
    "import numpy as np\n",
    "from datetime import datetime\n",
    "import pandas as pd\n",
    "import torch\n",
    "import torch.nn as nn\n",
    "import torch.optim as optim\n",
    "from torch.utils.data import DataLoader\n",
    "from SparseNet import *\n",
    "from plink_dataloader import *\n",
    "from sklearn.metrics import matthews_corrcoef\n",
    "import time\n",
    "import scikitplot as skplt\n",
    "from torch.utils.tensorboard import SummaryWriter\n",
    "import scikitplot as skplt\n",
    "import matplotlib.pyplot as plt"
   ]
  },
  {
   "cell_type": "markdown",
   "id": "ae20bb8b",
   "metadata": {},
   "source": [
    "The design and architecture of this model is greatly inspired by [GenNet](https://github.com/ArnovanHilten/GenNet), which aims at training biologicall interpretable deep learning models using sparse networks defined by biological knowledged about SNP-Gene affiliations, Gene-pathway relationships etc.\n",
    "Genotype and phenotype information is stored in files \"genotype.h5\" and \"subjects.csv\". QC has been carried out beforehand for the genotype data and training-validation-test split has also been carried out beforehand and that information is embedded in \"subects.csv\". These files are loaded in the PyTorch datasets and loader classes."
   ]
  },
  {
   "cell_type": "code",
   "execution_count": 2,
   "id": "french-spice",
   "metadata": {},
   "outputs": [],
   "source": [
    "genotypes = \"/home/user/directory/GenNet/ready_data/full_snps/genotype.h5\"\n",
    "phenotypes = \"/home/user/directory/GenNet/ready_data/full_snps/subjects.csv\"\n",
    "frq_file = pd.read_csv(\"/home/user/directory/phenotypes/severe_clumped.frq\", sep = \"\\s+\")"
   ]
  },
  {
   "cell_type": "code",
   "execution_count": 3,
   "id": "88cde8f2",
   "metadata": {},
   "outputs": [
    {
     "name": "stderr",
     "output_type": "stream",
     "text": [
      "/data/user/miniconda3/envs/notebook/lib/python3.7/site-packages/ipykernel_launcher.py:1: DtypeWarning: Columns (1) have mixed types.Specify dtype option on import or set low_memory=False.\n",
      "  \"\"\"Entry point for launching an IPython kernel.\n",
      "/data/user/miniconda3/envs/notebook/lib/python3.7/site-packages/ipykernel_launcher.py:4: DtypeWarning: Columns (1) have mixed types.Specify dtype option on import or set low_memory=False.\n",
      "  after removing the cwd from sys.path.\n",
      "/data/user/miniconda3/envs/notebook/lib/python3.7/site-packages/ipykernel_launcher.py:7: DtypeWarning: Columns (1) have mixed types.Specify dtype option on import or set low_memory=False.\n",
      "  import sys\n"
     ]
    }
   ],
   "source": [
    "train_ds = load_csv(genotypes, phenotypes, 1)\n",
    "train_dl = DataLoader(train_ds, batch_size=64, shuffle=True)\n",
    "\n",
    "val_ds = load_csv(genotypes, phenotypes, 2)\n",
    "val_dl = DataLoader(val_ds, batch_size=64, shuffle=False)\n",
    "\n",
    "test_ds = load_csv(genotypes, phenotypes, 3)\n",
    "test_dl = DataLoader(test_ds, batch_size=64, shuffle=False)"
   ]
  },
  {
   "cell_type": "markdown",
   "id": "0a3a54c6",
   "metadata": {},
   "source": [
    "The model consists of a sparse input layer that only allow connections between variants and hidden gene nodes. The sparsity of the input weight matrix is defined in the \"connectivity.tsv\" file defining which input nodes are connected to which hidden nodes. It is then possible to add a dense layer after the gene layer with the `hidden_features`argument in the `SparseNet`class."
   ]
  },
  {
   "cell_type": "code",
   "execution_count": 4,
   "id": "306ef857",
   "metadata": {},
   "outputs": [],
   "source": [
    "model = SparseNet(topology_path=\"/home/user/Phenotype_prediction/test_connectivty.tsv\",\n",
    "                hidden_features=50)"
   ]
  },
  {
   "cell_type": "markdown",
   "id": "6e8e8b7a",
   "metadata": {},
   "source": [
    "The function `train_one_epoch`defines how an epoch is carried out the training loop. Parameters are adjusted using the binary cross entropy loss function weighting the positive classes by their reciprocal ratio."
   ]
  },
  {
   "cell_type": "code",
   "execution_count": 5,
   "id": "49f8091d",
   "metadata": {},
   "outputs": [],
   "source": [
    "w = torch.tensor(4.284273)\n",
    "bce_loss = nn.BCEWithLogitsLoss(pos_weight=w)\n",
    "learning_rate=3e-4\n",
    "l1_const=5e-5\n",
    "l2_const=1e-2\n",
    "optimizer = optim.Adam(model.parameters(), lr=learning_rate, weight_decay=l2_const)\n",
    "\n",
    "def PearsonsCorrelation(output, labels):\n",
    "\n",
    "    output = output.sigmoid().round()\n",
    "    x_diff = output - output.mean()\n",
    "    y_diff = labels - labels.mean()\n",
    "\n",
    "    covar = (x_diff * y_diff).sum()\n",
    "    normalization = (x_diff**2 * y_diff**2).sum().sqrt()\n",
    "    \n",
    "    if normalization == 0:\n",
    "        return normalization\n",
    "    \n",
    "    else:\n",
    "        return covar / normalization\n",
    "\n",
    "\n",
    "def train_one_epoch(epoch_index, tb_writer):\n",
    "    running_loss = 0.\n",
    "    last_loss = 0.\n",
    "\n",
    "    # Here, we use enumerate(training_loader) instead of\n",
    "    # iter(training_loader) so that we can track the batch\n",
    "    # index and do some intra-epoch reporting\n",
    "    for i, data in enumerate(train_dl):\n",
    "        \n",
    "        # Every data instance is an input + label pair\n",
    "        inputs, labels = data\n",
    "        # Simulate missing genotypes based on MAF\n",
    "        x, y = np.where(inputs.isnan() == True)\n",
    "        mafs = frq_file[\"MAF\"].iloc[y]\n",
    "        counts = np.random.binomial(n=2, p=mafs)\n",
    "        inputs[x, y] = torch.DoubleTensor(counts)\n",
    "\n",
    "        # Zero your gradients for every batch!\n",
    "        optimizer.zero_grad()\n",
    "\n",
    "        # Make predictions for this batch\n",
    "        outputs = model(inputs.float())\n",
    "        # Compute the loss and its gradients\n",
    "        loss = bce_loss(outputs, labels.float())\n",
    "        loss.backward()\n",
    "\n",
    "        # Adjust learning weights\n",
    "        optimizer.step()\n",
    "\n",
    "        # Gather data and report\n",
    "        running_loss += loss.item()\n",
    "    \n",
    "    avg_loss = running_loss / len(train_ds) # loss per batch\n",
    "    tb_x = epoch_index * len(train_dl) + i + 1\n",
    "    tb_writer.add_scalar('Loss/train', avg_loss, tb_x)\n",
    "\n",
    "    return avg_loss"
   ]
  },
  {
   "cell_type": "markdown",
   "id": "aeb5763f",
   "metadata": {},
   "source": [
    "Feeding the data to the model a single time is not enough and therefore the model must observe the data multiple times. This will present different splits of the data each time, given the `DataLoader`class' random sampling of batches. And epoch defines everytime the entire data is fed to the model. After each epoch the model is validated on the validation set using Matthew's correlation coefficient, which measures the correlation between binary variables. This metric is works very well in imbalanced datasets as it takes into account the full confusion matrix."
   ]
  },
  {
   "cell_type": "code",
   "execution_count": 6,
   "id": "26517aa7",
   "metadata": {},
   "outputs": [
    {
     "name": "stderr",
     "output_type": "stream",
     "text": [
      "2022-01-21 11:13:59.204033: W tensorflow/stream_executor/platform/default/dso_loader.cc:64] Could not load dynamic library 'libcudart.so.11.0'; dlerror: libcudart.so.11.0: cannot open shared object file: No such file or directory\n",
      "2022-01-21 11:13:59.204073: I tensorflow/stream_executor/cuda/cudart_stub.cc:29] Ignore above cudart dlerror if you do not have a GPU set up on your machine.\n"
     ]
    }
   ],
   "source": [
    "# Initializing in a separate cell so we can easily add more epochs to the same run\n",
    "timestamp = datetime.now().strftime('%Y%m%d_%H%M%S')\n",
    "writer = SummaryWriter('/home/user/directory/model_runs/runs/severe_asthma_trainer_{}'.format(timestamp))\n",
    "epoch_number = 0\n",
    "EPOCHS = 20\n",
    "best_mcc = 0.\n",
    "scheduler = optim.lr_scheduler.ReduceLROnPlateau(optimizer, mode=\"min\", factor=0.1, patience=5)"
   ]
  },
  {
   "cell_type": "code",
   "execution_count": 7,
   "id": "3ad2c685",
   "metadata": {},
   "outputs": [
    {
     "name": "stdout",
     "output_type": "stream",
     "text": [
      "EPOCH 1:\n",
      "BCE train 0.01757549118913475 MCC valid 0.12830396184617623\n",
      "EPOCH 2:\n",
      "BCE train 0.01753786376160546 MCC valid 0.04716075866119864\n",
      "EPOCH 3:\n",
      "BCE train 0.017497276618100705 MCC valid 0.3509303583131871\n",
      "EPOCH 4:\n",
      "BCE train 0.01743744147358128 MCC valid 0.3451504930732484\n",
      "EPOCH 5:\n",
      "BCE train 0.01735815454054119 MCC valid 0.20932798092489432\n",
      "EPOCH 6:\n",
      "BCE train 0.01720979149858125 MCC valid 0.33075287817407484\n",
      "EPOCH 7:\n",
      "BCE train 0.016970715181987502 MCC valid 0.41122215995855455\n",
      "EPOCH 8:\n",
      "BCE train 0.016613750978099102 MCC valid 0.3552137670174729\n",
      "EPOCH 9:\n",
      "BCE train 0.016312899702709948 MCC valid 0.35669001530821787\n",
      "EPOCH 10:\n",
      "BCE train 0.016264087734662452 MCC valid 0.3602257512695841\n",
      "EPOCH 11:\n",
      "BCE train 0.016214425100378634 MCC valid 0.3471307286751598\n",
      "EPOCH 12:\n",
      "BCE train 0.01616466623881362 MCC valid 0.3510877624842098\n",
      "EPOCH 13:\n",
      "BCE train 0.016126213023783326 MCC valid 0.35148233837897913\n",
      "EPOCH 14:\n",
      "BCE train 0.016079351128143456 MCC valid 0.3482293606021298\n",
      "EPOCH 15:\n",
      "BCE train 0.016048573255855063 MCC valid 0.35184290086282843\n",
      "EPOCH 16:\n",
      "BCE train 0.01605041836023141 MCC valid 0.34397026688649224\n",
      "EPOCH 17:\n",
      "BCE train 0.016043696217624175 MCC valid 0.3450709009735034\n",
      "EPOCH 18:\n",
      "BCE train 0.016035372225873448 MCC valid 0.3465483292826236\n",
      "EPOCH 19:\n",
      "BCE train 0.01603159666440747 MCC valid 0.35409766448797153\n",
      "EPOCH 20:\n",
      "BCE train 0.016027272838207113 MCC valid 0.3427242852167883\n"
     ]
    }
   ],
   "source": [
    "train_loss = []\n",
    "val_loss = []\n",
    "for epoch in range(EPOCHS):\n",
    "    print('EPOCH {}:'.format(epoch_number + 1))\n",
    "\n",
    "    # Make sure gradient tracking is on, and do a pass over the data\n",
    "    model.train(True)\n",
    "    avg_loss = train_one_epoch(epoch_number, writer)\n",
    "\n",
    "    # We don't need gradients on to do reporting\n",
    "    model.train(False)\n",
    "\n",
    "    running_mcc = 0.0\n",
    "    for i, val_data in enumerate(val_dl):\n",
    "\n",
    "        inputs, labels = val_data\n",
    "        \n",
    "        # Simulate missing genotypes based on MAF\n",
    "        x, y = np.where(inputs.isnan() == True)\n",
    "        mafs = frq_file[\"MAF\"].iloc[y]\n",
    "        counts = np.random.binomial(n=2, p=mafs)\n",
    "        inputs[x, y] = torch.DoubleTensor(counts)\n",
    "        \n",
    "        preds = model(inputs.float()).detach().sigmoid().round()\n",
    "        mcc = matthews_corrcoef(labels, preds)\n",
    "        running_mcc += mcc\n",
    "\n",
    "    avg_mcc = running_mcc / (i + 1)\n",
    "    scheduler.step(avg_mcc)\n",
    "\n",
    "    print('BCE train {} MCC valid {}'.format(avg_loss, avg_mcc))\n",
    "    train_loss.append(avg_loss)\n",
    "    val_loss.append(avg_mcc)\n",
    "\n",
    "    # Log the running loss averaged per batch\n",
    "    # for both training and validation\n",
    "    writer.add_scalars('BCE vs. MCC',\n",
    "                    { 'Training' : avg_loss, 'Validation' : avg_mcc },\n",
    "                    epoch_number + 1)\n",
    "    writer.flush()\n",
    "\n",
    "    # Track best performance, and save the model's state\n",
    "    if avg_mcc > best_mcc:\n",
    "        best_mcc = avg_mcc\n",
    "        model_path = 'model_{}_{}'.format(timestamp, epoch_number)\n",
    "        torch.save(model.state_dict(), model_path)\n",
    "\n",
    "    epoch_number += 1\n",
    "    \n"
   ]
  },
  {
   "cell_type": "code",
   "execution_count": 10,
   "id": "c9787db0",
   "metadata": {},
   "outputs": [
    {
     "data": {
      "text/plain": [
       "0.3547395460786157"
      ]
     },
     "execution_count": 10,
     "metadata": {},
     "output_type": "execute_result"
    }
   ],
   "source": [
    "test_mcc = 0.0\n",
    "model_predictions = []\n",
    "labels_list = []\n",
    "for i, test_data in enumerate(test_dl):\n",
    "\n",
    "    inputs, labels = test_data\n",
    "\n",
    "    # Simulate missing genotypes based on MAF\n",
    "    x, y = np.where(inputs.isnan() == True)\n",
    "    mafs = frq_file[\"MAF\"].iloc[y]\n",
    "    counts = np.random.binomial(n=2, p=mafs)\n",
    "    inputs[x, y] = torch.DoubleTensor(counts)\n",
    "\n",
    "    preds = model(inputs.float()).detach().sigmoid().round()\n",
    "    model_predictions.append(preds)\n",
    "    labels_list.append(labels)\n",
    "    \n",
    "    mcc = matthews_corrcoef(labels, preds)\n",
    "    test_mcc += mcc\n",
    "\n",
    "avg_mcc_test = test_mcc / len(test_dl)\n",
    "avg_mcc_test"
   ]
  },
  {
   "cell_type": "code",
   "execution_count": 13,
   "id": "b8ccdb2e",
   "metadata": {},
   "outputs": [
    {
     "data": {
      "image/png": "[encoded data removed]",
      "text/plain": [
       "<Figure size 432x288 with 1 Axes>"
      ]
     },
     "metadata": {
      "needs_background": "light"
     },
     "output_type": "display_data"
    },
    {
     "data": {
      "image/png": "[encoded data removed]",
      "text/plain": [
       "<Figure size 432x288 with 1 Axes>"
      ]
     },
     "metadata": {
      "needs_background": "light"
     },
     "output_type": "display_data"
    }
   ],
   "source": [
    "plt.plot(train_loss)\n",
    "plt.ylabel(\"Binary Cross-Entropy\")\n",
    "plt.xlabel(\"Epoch\")\n",
    "plt.title(\"Training loss\")\n",
    "plt.show()\n",
    "plt.plot(val_loss)\n",
    "plt.ylabel(\"Matthew's Correlation Coefficient\")\n",
    "plt.xlabel(\"Epoch\")\n",
    "plt.title(\"Validation 'loss'\")\n",
    "plt.show()"
   ]
  },
  {
   "cell_type": "code",
   "execution_count": 15,
   "id": "b578a8a5",
   "metadata": {},
   "outputs": [],
   "source": [
    "torch.save(model, \"/home/user/Phenotype_prediction/models/test_model_272.pth\")"
   ]
  }
 ],
 "metadata": {
  "kernelspec": {
   "display_name": "Python 3",
   "language": "python",
   "name": "python3"
  },
  "language_info": {
   "codemirror_mode": {
    "name": "ipython",
    "version": 3
   },
   "file_extension": ".py",
   "mimetype": "text/x-python",
   "name": "python",
   "nbconvert_exporter": "python",
   "pygments_lexer": "ipython3",
   "version": "3.7.11"
  }
 },
 "nbformat": 4,
 "nbformat_minor": 5
}

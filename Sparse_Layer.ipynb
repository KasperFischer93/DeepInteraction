{
 "cells": [
  {
   "cell_type": "code",
   "execution_count": 5,
   "metadata": {},
   "outputs": [],
   "source": [
    "import numpy as np\n",
    "from datetime import datetime\n",
    "import pandas as pd\n",
    "import torch\n",
    "import torch.nn as nn\n",
    "import torch.optim as optim\n",
    "from torch.utils.data import DataLoader\n",
    "from SparseNet import *\n",
    "from plink_dataloader import *\n",
    "from sklearn.metrics import matthews_corrcoef\n",
    "import tables\n",
    "import scikitplot as skplt\n",
    "from torch.utils.tensorboard import SummaryWriter"
   ]
  },
  {
   "cell_type": "code",
   "execution_count": 10,
   "metadata": {},
   "outputs": [],
   "source": [
    "geno_path = \"/home/kasper/nas/additional_gwas/severe/data/plink_data/pku_inter99\"\n",
    "pheno_path = \"/home/kasper/nas/additional_gwas/severe/phenotypes/hos6.pheno.txt\"\n",
    "topology_path = \"/home/kasper/Phenotype_prediction/connectivty.tsv\"\n",
    "model = SparseNet(topology_path = topology_path,\n",
    "                hidden_features=500)"
   ]
  },
  {
   "cell_type": "code",
   "execution_count": 12,
   "metadata": {},
   "outputs": [],
   "source": [
    "connections = pd.read_csv(topology_path, sep='\\t', dtype = int)\n",
    "snp_features = connections[\"snp\"].max() + 1\n",
    "gene_features = connections[\"gene\"].max() + 1\n",
    "\n",
    "connections = np.array([connections[\"gene\"].values,\n",
    "                        connections[\"snp\"].values])\n",
    "\n",
    "connections = torch.tensor(connections).long()\n",
    "gene_layer = sl.SparseLinear(in_features = snp_features,\n",
    "                             out_features = gene_features,\n",
    "                             connectivity = connections)"
   ]
  },
  {
   "cell_type": "code",
   "execution_count": 41,
   "metadata": {},
   "outputs": [],
   "source": [
    "gene_layer.weights = torch.nn.Parameter(gene_layer.weights.abs())"
   ]
  },
  {
   "cell_type": "code",
   "execution_count": 43,
   "metadata": {},
   "outputs": [
    {
     "data": {
      "text/plain": [
       "Parameter containing:\n",
       "tensor([0.0001, 0.0002, 0.0008,  ..., 0.0014, 0.0008, 0.0001],\n",
       "       requires_grad=True)"
      ]
     },
     "execution_count": 43,
     "metadata": {},
     "output_type": "execute_result"
    }
   ],
   "source": [
    "gene_layer.weights"
   ]
  },
  {
   "cell_type": "code",
   "execution_count": 8,
   "metadata": {},
   "outputs": [
    {
     "name": "stderr",
     "output_type": "stream",
     "text": [
      "/data/kasper/miniconda3/envs/notebook/lib/python3.7/site-packages/ipykernel_launcher.py:1: DtypeWarning: Columns (1) have mixed types.Specify dtype option on import or set low_memory=False.\n",
      "  \"\"\"Entry point for launching an IPython kernel.\n"
     ]
    }
   ],
   "source": [
    "train_ds = load_csv(genotypes, phenotypes, 1)\n",
    "train_dl = DataLoader(train_ds, batch_size=64, shuffle=True)\n",
    "data, labels = next(iter(train_dl))\n",
    "x, y = np.where(data.isnan() == True)\n",
    "mafs = frq_file[\"MAF\"].iloc[y]\n",
    "counts = np.random.binomial(n=2, p=mafs)\n",
    "data[x, y] = torch.DoubleTensor(counts)"
   ]
  },
  {
   "cell_type": "code",
   "execution_count": 11,
   "metadata": {},
   "outputs": [
    {
     "data": {
      "text/plain": [
       "tensor([ 4.7013e-03, -7.4553e-04, -2.0779e-03,  1.8814e-03, -5.2556e-05,\n",
       "        -7.2324e-03,  1.3090e-03, -1.9238e-03, -7.8221e-03, -1.3290e-03,\n",
       "        -1.1580e-02,  1.7742e-03,  5.2600e-03, -4.6541e-03,  1.3191e-03,\n",
       "        -6.7942e-03,  1.6029e-02, -9.7235e-03, -1.1511e-02,  1.2148e-03,\n",
       "         8.1826e-03, -3.5860e-03, -1.8261e-04,  8.7140e-03, -9.7077e-03,\n",
       "         1.7585e-04, -1.1300e-02,  8.8505e-03,  2.1538e-03, -1.0631e-02,\n",
       "         4.2107e-03,  7.9428e-04,  2.7873e-03, -1.5448e-02,  2.9737e-04,\n",
       "        -5.8864e-03, -4.2002e-03, -7.5796e-03, -7.0061e-03, -9.4450e-03,\n",
       "         5.3697e-04,  7.3208e-03, -7.4378e-03,  7.5740e-04, -8.6939e-03,\n",
       "        -1.1240e-02, -5.0418e-03,  3.9227e-03,  6.1272e-03, -1.4456e-02,\n",
       "         5.5054e-03,  4.7926e-03, -1.1427e-02, -5.6418e-03, -1.6724e-02,\n",
       "        -8.3111e-03, -7.3658e-03, -5.7603e-03, -1.0461e-02, -4.6861e-03,\n",
       "         2.8812e-03, -3.2779e-05, -9.4241e-03,  2.7099e-03],\n",
       "       grad_fn=<ReshapeAliasBackward0>)"
      ]
     },
     "execution_count": 11,
     "metadata": {},
     "output_type": "execute_result"
    }
   ],
   "source": [
    "model(data.float())"
   ]
  },
  {
   "cell_type": "code",
   "execution_count": null,
   "metadata": {},
   "outputs": [],
   "source": [
    "x, y = np.where(np.isnan(data) == True)\n",
    "mafs = frq_file[\"MAF\"].iloc[y]\n",
    "counts = np.random.binomial(n=2, p=mafs)"
   ]
  },
  {
   "cell_type": "code",
   "execution_count": null,
   "metadata": {},
   "outputs": [],
   "source": [
    "data[x, y] = np.array(counts, dtype=\"float32\")\n",
    "data"
   ]
  },
  {
   "cell_type": "code",
   "execution_count": null,
   "metadata": {},
   "outputs": [],
   "source": [
    "model(data)"
   ]
  },
  {
   "cell_type": "code",
   "execution_count": null,
   "metadata": {},
   "outputs": [],
   "source": [
    "def PearsonsCorrelation(output, labels):\n",
    "\n",
    "    output = output.sigmoid().round()\n",
    "    x_diff = output - output.mean()\n",
    "    y_diff = labels - labels.mean()\n",
    "\n",
    "    covar = (x_diff * y_diff).sum()\n",
    "    normalization = (x_diff**2 * y_diff**2).sum().sqrt()\n",
    "    \n",
    "    if normalization == 0:\n",
    "        return normalization\n",
    "    \n",
    "    else:\n",
    "        return covar / normalization"
   ]
  },
  {
   "cell_type": "code",
   "execution_count": null,
   "metadata": {},
   "outputs": [],
   "source": [
    "PearsonsCorrelation(output, labels.float())"
   ]
  },
  {
   "cell_type": "code",
   "execution_count": null,
   "metadata": {},
   "outputs": [],
   "source": [
    "w = torch.tensor(4.284273)\n",
    "bce_loss = nn.BCEWithLogitsLoss(pos_weight=w)\n",
    "loss = bce_loss(output, labels.float())"
   ]
  },
  {
   "cell_type": "code",
   "execution_count": null,
   "metadata": {},
   "outputs": [],
   "source": [
    "loss"
   ]
  }
 ],
 "metadata": {
  "kernelspec": {
   "display_name": "Python 3",
   "language": "python",
   "name": "python3"
  },
  "language_info": {
   "codemirror_mode": {
    "name": "ipython",
    "version": 3
   },
   "file_extension": ".py",
   "mimetype": "text/x-python",
   "name": "python",
   "nbconvert_exporter": "python",
   "pygments_lexer": "ipython3",
   "version": "3.10.4"
  }
 },
 "nbformat": 4,
 "nbformat_minor": 5
}

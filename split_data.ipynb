{
 "cells": [
  {
   "cell_type": "code",
   "execution_count": 1,
   "id": "693777bf",
   "metadata": {},
   "outputs": [],
   "source": [
    "import numpy as np\n",
    "import pandas as pd\n",
    "from sklearn.model_selection import train_test_split"
   ]
  },
  {
   "cell_type": "code",
   "execution_count": 2,
   "id": "9055ff06",
   "metadata": {},
   "outputs": [],
   "source": [
    "fam_path = \"/home/kasper/data/wheeze/additional_gwas/severe/data/severe.fam\"\n",
    "fam = pd.read_csv(fam_path, sep = \" \", header = None)\n",
    "fam[0] = fam[0].astype(str)"
   ]
  },
  {
   "cell_type": "code",
   "execution_count": 3,
   "id": "a508a40f",
   "metadata": {},
   "outputs": [],
   "source": [
    "x = fam[[0, 1]].values\n",
    "y = fam[5].values\n",
    "x_train, x_test, y_train, y_test = train_test_split(x, y, test_size = 0.5, stratify=y)"
   ]
  },
  {
   "cell_type": "code",
   "execution_count": 4,
   "id": "b6e13641",
   "metadata": {},
   "outputs": [],
   "source": [
    "data_path = \"/home/kasper/data/wheeze/additional_gwas/severe/data/\"\n",
    "np.savetxt(data_path + 'train_inds.txt', x_train, delimiter = \" \", fmt=\"%s\")\n",
    "np.savetxt(data_path + 'test_inds.txt', x_test, delimiter = \" \", fmt=\"%s\")"
   ]
  }
 ],
 "metadata": {
  "kernelspec": {
   "display_name": "Python 3 (ipykernel)",
   "language": "python",
   "name": "python3"
  },
  "language_info": {
   "codemirror_mode": {
    "name": "ipython",
    "version": 3
   },
   "file_extension": ".py",
   "mimetype": "text/x-python",
   "name": "python",
   "nbconvert_exporter": "python",
   "pygments_lexer": "ipython3",
   "version": "3.8.0"
  }
 },
 "nbformat": 4,
 "nbformat_minor": 5
}
